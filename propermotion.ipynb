{
 "cells": [
  {
   "cell_type": "markdown",
   "metadata": {},
   "source": [
    "## Test data"
   ]
  },
  {
   "cell_type": "code",
   "execution_count": 9,
   "metadata": {
    "collapsed": true
   },
   "outputs": [],
   "source": [
    "test_ra = 168.3700 #degrees\n",
    "test_dec = 22.15167 #degrees\n",
    "test_d = 233000 #pc\n",
    "mu_a = -6.930000 #mas/cent\n",
    "mu_d = -8.670000 #mas/cent\n",
    "rv = 79.1 #km/s"
   ]
  },
  {
   "cell_type": "markdown",
   "metadata": {},
   "source": [
    "## Python Functions"
   ]
  },
  {
   "cell_type": "code",
   "execution_count": 10,
   "metadata": {},
   "outputs": [],
   "source": [
    "import numpy as np\n",
    "from astropy import units as u\n",
    "from astropy.coordinates import SkyCoord, Galactocentric, ICRS, Galactic\n",
    "from astropy.coordinates import BaseCoordinateFrame, FrameAttribute, TimeFrameAttribute, RepresentationMapping\n",
    "import gala.coordinates as gc\n",
    "    \n",
    "#Constants\n",
    "asec_to_rad = 206264.8 #Converts arcseconds to radians\n",
    "year_to_sec = 3.155693e7 #Converts from years to seconds\n",
    "pc_to_km = 3.08568e13 #Converts from pc to km\n",
    "year_to_day = 365.2422 #Converts years to days\n",
    "ra_lsr = 318.00425 #RA of the apex of the LSR motion (ie., l=90, b=0)     \n",
    "dec_lsr = 48.329611 #DEC of the apex of the LSR motion (J2000.0)\n",
    "ra_sa = 251.51 #RA of the apex of the solar peculiar motion (wrt LSR) J2000.0 \n",
    "dec_sa = 10.129 #DEC of the apex of the solar peculiar motion (wrt LSR)\n",
    "alpha_NGP = 192.85948 #RA in degrees of the Galactic Pole (J2000.0)\n",
    "delta_NGP = 27.12825 #DEC in degrees of the Galactic Pole (J2000.0)\n",
    "gc_GAN = 32.93192 #Angle along galactic equator from (l,b)=(0,0) to galactic ascending node\n",
    "l_NCP = 122.9319#Galactic longitude of the NCP (J2000.0)\n",
    "b_NCP =  27.1283#Galactic latitude of the NCP  (J2000.0)\n",
    "usun = -10.0 #U-component of Sun's velocity w.r.t. LSR; Dehnen & Binney                  \n",
    "vsun = 11.0 #V-component of Sun's velocity w.r.t. LSR; 1998, MNRAS, \n",
    "wsun = 7.0 #W-component of Sun's velocity w.r.t. LSR; 298, 387\n",
    "vlsr = 237.0 #Circular velocity of LSR w.r.t. Galaxy center in km/s\n",
    "dlsr = 8200.0 #Distance of LSR from the Galaxy center in pc\n",
    "\n",
    "#Functions\n",
    "\n",
    "def sin_deg(x):\n",
    "    #Sine function for degree-valued args\n",
    "    deg_to_rad = 1.74532925199e-02\n",
    "    return np.sin(np.deg2rad(x))\n",
    "\n",
    "def cos_deg(x):\n",
    "    #Cosine function for degree-valued args\n",
    "    return np.cos(np.deg2rad(x))\n",
    "\n",
    "def asin_deg(x):\n",
    "    #Gives asin in degrees\n",
    "    return np.rad2deg(np.arcsin(x))\n",
    "\n",
    "def acos_deg(x):\n",
    "    #Gives acos in degrees\n",
    "    return np.rad2deg(np.arccos(x))\n",
    "\n",
    "def atan2_deg(y,x):\n",
    "    #Gives atan2 in degrees\n",
    "    return np.rad2deg(np.arctan2(y,x))\n",
    "\n",
    "def radec_to_lb(ra, dec):\n",
    "    #Returns dictionary of galactic coords (l, b) in degrees, given an object's RA/DEC in degrees\n",
    "    coords = SkyCoord(ra=ra*u.degree, dec=dec*u.degree, frame='icrs')\n",
    "    galactic = coords.galactic\n",
    "    return galactic.l.deg, galactic.b.deg\n",
    "\n",
    "def lb_to_galactic_xyz(l, b, d, dlsr):\n",
    "    #Takes l and b in degrees, d (distance to object) in pc, dlsr in pc\n",
    "    x = (dlsr-d*cos_deg(b)*cos_deg(l))/1000\n",
    "    y = -d*cos_deg(b)*sin_deg(l)/1000\n",
    "    z = d*sin_deg(b)/1000\n",
    "    return x, y, z #kpc\n",
    "\n",
    "def pm_radec_to_lb(ra, dec, dist, mu_a, mu_d, rv):\n",
    "    #Takes ra/dec in degrees, distance in pc, mu_a/mu_d in mas/cent, rv in km/s\n",
    "    #Returns mu_l/mu_b in mas/cent\n",
    "    c = SkyCoord(ra=ra*u.deg, dec=dec*u.deg, distance=dist*u.pc)\n",
    "    pm = [mu_a, mu_d] * u.mas/(100*u.yr) \n",
    "    return gc.pm_icrs_to_gal(c, pm).to(u.mas/(u.yr))\n",
    "\n",
    "def GETVT(mux,muy,d,asec_to_rad=asec_to_rad,year_to_sec=year_to_sec,pc_to_km=pc_to_km):\n",
    "    #mux, muy in mas/cent\n",
    "    #distance in pc\n",
    "    \n",
    "    #Get into arcsec/year\n",
    "    mux = (mux*(1e-3)/100)\n",
    "    muy = (muy*(1e-3)/100)\n",
    "\n",
    "    vtx=mux*d*pc_to_km/(year_to_sec*asec_to_rad)\n",
    "    vty=muy*d*pc_to_km/(year_to_sec*asec_to_rad)\n",
    "    vt=np.sqrt(vtx*vtx+vty*vty)\n",
    "    return vtx, vty, vt  \n",
    "\n",
    "def get_v_wrt_lsr(l, b, vtl, vtb, v_r_sun, usun, vsun, wsun):\n",
    "    #Finds velocity of galaxy wrt LSR\n",
    "    #velocity inputs are in km.s\n",
    "    \n",
    "    #Theta direction\n",
    "    vg = v_r_sun*cos_deg(b)*sin_deg(l) - vtb*sin_deg(b)*sin_deg(l)+vtl*cos_deg(l) + vsun\n",
    "    \n",
    "    #Pi direction\n",
    "    ug = -v_r_sun*cos_deg(b)*cos_deg(l) + vtb*sin_deg(b)*cos_deg(l) + vtl*sin_deg(l) + usun\n",
    "    \n",
    "    #Z direction\n",
    "    wg =  v_r_sun*sin_deg(b) + vtb*cos_deg(b) + wsun\n",
    "    \n",
    "    return ug, vg, wg #km/s\n",
    "\n",
    "def get_v_cyl(l,b,d,ug,vg,wg, dlsr=dlsr, vlsr=vlsr):\n",
    "    #input velocities in km/s, distainces in pc\n",
    "    \n",
    "    x=np.sqrt(dlsr*dlsr+d*d*cos_deg(b)*cos_deg(b)-2.0*dlsr*d*cos_deg(b)*cos_deg(l))\n",
    "    sinalpha=d*cos_deg(b)*sin_deg(l)/x\n",
    "    cosalpha=(x*x+dlsr*dlsr-d*d*cos_deg(b)*cos_deg(b))/(2.0*x*dlsr)\n",
    "\n",
    "    vpi =  ug*cosalpha + (vg+vlsr)*sinalpha\n",
    "    vtheta = -ug*sinalpha + (vg+vlsr)*cosalpha\n",
    "    vz =  wg\n",
    "    \n",
    "    #upg(2) =  sqrt((ug(2)*cosalpha)**2 + (vg(2)*sinalpha)**2)\n",
    "    #vpg(2) =  sqrt((ug(2)*sinalpha)**2 + (vg(2)*cosalpha)**2)\n",
    "    #wpg(2) =  wg(2)\n",
    "    \n",
    "    return vpi, vtheta, vz #km/s\n",
    "\n",
    "def get_v_xyz(l, b, d, vpi, vth, vz, dlsr=dlsr):\n",
    "    #distances in pc, vels in km/s\n",
    "\n",
    "    x=dlsr-d*cos_deg(b)*cos_deg(l)\n",
    "    y=-d*cos_deg(b)*sin_deg(l)\n",
    "    z=d*sin_deg(b)\n",
    "\n",
    "    costh=x/np.sqrt(x**2+y**2)\n",
    "    sinth=-y/np.sqrt(x**2+y**2)\n",
    "    vx=vpi*costh-vth*sinth\n",
    "    vy=-vpi*sinth-vth*costh\n",
    "    \n",
    "    return vx, vy, vz\n",
    "\n",
    "def get_v_spherical(l, b, d, vpi, vtheta, vz, dlsr=dlsr):\n",
    "#                 --- The transformation equations: ---\n",
    "#       uppg =  upg*cos(beta) + wpg*sin(beta)\n",
    "#       vppg =  vpg\n",
    "#       wppg = -upg*sin(beta) + wpg*cos(beta)\n",
    "#\n",
    "#     --- beta is an angle between the line-of-sight to a galaxy and\n",
    "#         line x (see subroutine GETUPGVPGWPG for definition).\n",
    "#     --- From the law of cosines...\n",
    "\n",
    "    x=np.sqrt(dlsr*dlsr+d*d*cos_deg(b)*cos_deg(b)-2.0*dlsr*d*cos_deg(b)*cos_deg(l))\n",
    "    cosbeta=x/np.sqrt(x*x+d*d*sin_deg(b)*sin_deg(b))\n",
    "    sinbeta=d*sin_deg(b)/np.sqrt(x*x+d*d*sin_deg(b)*sin_deg(b))\n",
    "    vr =  vpi*cosbeta + vz*sinbeta\n",
    "    vrot = vtheta\n",
    "    v_perp_radial = -vpi*sinbeta + vz*cosbeta\n",
    "\n",
    "    vt = np.sqrt(vrot**2+v_perp_radial**2)\n",
    "    \n",
    "    return vr, vrot, v_perp_radial, vt\n"
   ]
  },
  {
   "cell_type": "markdown",
   "metadata": {},
   "source": [
    "## Print Values"
   ]
  },
  {
   "cell_type": "code",
   "execution_count": 18,
   "metadata": {},
   "outputs": [
    {
     "name": "stdout",
     "output_type": "stream",
     "text": [
      "l = 220.16913737, b = 67.2312443585 (deg)\n",
      "\n",
      "Galactocentric X, Y, Z = [77.105875011103947, 58.166385352063095, 214.84331966349203] (kpc)\n",
      "\n",
      "mu_l = 6.17081529568, mu_b = -9.22577180982 (mas/cent)\n",
      "\n",
      "v_tang in l direction = 68.1599852049, v_tang in b direction = -101.903628602, v_tang total = 122.597443307 (km/s)\n",
      "\n",
      "Velocities of galaxy wrt LSR:\n",
      "u = 41.2271830735, v = -121.440923417, w = 40.498068962 (km/s)\n",
      "\n",
      "Cylindrical velocities:\n",
      "vpi = -36.6806351847, vtheta = 117.081645903, vz = 40.498068962 (km/s)\n",
      "\n",
      "Galactocentric XYZ velocities:\n",
      "Vx = 41.2271830735, Vy = -115.559076583, Vz = 40.498068962 (km/s)\n",
      "\n",
      "Radial velocity = 21.896955667 (km/s)\n",
      "Velocity in direction of disk rotation = 117.081645903 (km/s)\n",
      "V up and perp to radial = 50.0608222039 (km/s)\n",
      "Tangential velocity = 127.334982338 (km/s)\n"
     ]
    }
   ],
   "source": [
    "l, b = radec_to_lb(test_ra, test_dec)\n",
    "print \"l = {0}, b = {1}\" .format(l,b) +\" (deg)\" + \"\\n\"\n",
    "\n",
    "xyz = [i for i in lb_to_galactic_xyz(l, b, test_d, dlsr)]\n",
    "print \"Galactocentric X, Y, Z = {0}\" .format(xyz) + \" (kpc)\" + \"\\n\"\n",
    "\n",
    "mu_l, mu_b = pm_radec_to_lb(test_ra, test_dec, test_d, mu_a, mu_d, rv)*u.yr/u.mas*100\n",
    "print \"mu_l = {0}, mu_b = {1}\" .format (mu_l, mu_b) + \" (mas/cent)\" + \"\\n\"\n",
    "\n",
    "vtl, vtb, vt = GETVT(mu_l, mu_b, test_d)\n",
    "print \"v_tang in l direction = {0}, v_tang in b direction = {1}, v_tang total = {2}\".format(vtl, vtb, vt) \\\n",
    "+ \" (km/s)\" + \"\\n\"\n",
    "\n",
    "ug, vg, wg = get_v_wrt_lsr(l, b, vtl, vtb, rv, usun, vsun, wsun)\n",
    "print \"Velocities of galaxy wrt LSR:\"\n",
    "print \"u = {0}, v = {1}, w = {2}\" .format(ug, vg, wg) + \" (km/s)\" + \"\\n\"\n",
    "\n",
    "vpi, vtheta, vz = get_v_cyl(l,b,test_d,ug,vg,wg)\n",
    "print \"Cylindrical velocities:\"\n",
    "print \"vpi = {0}, vtheta = {1}, vz = {2}\" .format(vpi, vtheta, vz) + \" (km/s)\" + \"\\n\"\n",
    "\n",
    "vx, vy, vz = get_v_xyz(l, b, 233000, vpi, vtheta, vz)\n",
    "print \"Galactocentric XYZ velocities:\"\n",
    "print \"Vx = {0}, Vy = {1}, Vz = {2}\" .format (vx, vy, vz) + \" (km/s)\" + \"\\n\"\n",
    "\n",
    "vr, vrot, v_perp_radial, vt = get_v_spherical(l, b, test_d, vpi, vtheta, vz)\n",
    "print \"Radial velocity = {0}\" .format(vr) + \" (km/s)\"\n",
    "print \"Velocity in direction of disk rotation = {0}\" .format(vrot) + \" (km/s)\"\n",
    "print \"V up and perp to radial = {0}\" .format(v_perp_radial) + \" (km/s)\"\n",
    "print \"Tangential velocity = {0}\" .format(vt) + \" (km/s)\""
   ]
  },
  {
   "cell_type": "markdown",
   "metadata": {},
   "source": [
    "## Get UPGVPGWPG"
   ]
  },
  {
   "cell_type": "code",
   "execution_count": 12,
   "metadata": {},
   "outputs": [
    {
     "name": "stdout",
     "output_type": "stream",
     "text": [
      "-36.6806351847 117.081645903 40.498068962\n"
     ]
    }
   ],
   "source": [
    "def GETUPGVPGWPG(dlsr,vlsr,d,l,b,ug,vg,wg):\n",
    "#----------------------------------------------------------------------------\n",
    "#                 --- The transformation equations: ---\n",
    "#\n",
    "#       upg =  ug*cos(alpha) + (vg+vlsr)*sin(alpha) ;Pi direction\n",
    "#       vpg = -ug*sin(alpha) + (vg+vlsr)*cos(alpha) ;Theta direction\n",
    "#       wpg =  wg                                   ;Z direction\n",
    "#\n",
    "#     ---alpha is an angle between dlsr (a line between the Galactic center\n",
    "#        and the LSR (dlsr=8500 pc) and x (a line between the Galactic center\n",
    "#        and a point on the Galactic disk corresponding to a vertical \n",
    "#        projection of a galaxy onto the disk. \n",
    "#        \n",
    "#     --- The circular velocity of the L.S.R. is removed.\n",
    "#----------------------------------------------------------------------------\n",
    "\n",
    "\n",
    "    x=np.sqrt(dlsr*dlsr+d*d*cos_deg(b)*cos_deg(b)-2.0*dlsr*d*cos_deg(b)*cos_deg(l))\n",
    "    sinalpha=d*cos_deg(b)*sin_deg(l)/x\n",
    "    cosalpha=(x*x+dlsr*dlsr-d*d*cos_deg(b)*cos_deg(b))/(2.0*x*dlsr)\n",
    "\n",
    "    upg =  ug*cosalpha + (vg+vlsr)*sinalpha\n",
    "    vpg = -ug*sinalpha + (vg+vlsr)*cosalpha\n",
    "    wpg =  wg\n",
    "    \n",
    "    #upg(2) =  sqrt((ug(2)*cosalpha)**2 + (vg(2)*sinalpha)**2)\n",
    "    #vpg(2) =  sqrt((ug(2)*sinalpha)**2 + (vg(2)*cosalpha)**2)\n",
    "    #wpg(2) =  wg(2)\n",
    "    \n",
    "    return upg, vpg, wpg\n",
    "\n",
    "upg, vpg, wpg = GETUPGVPGWPG(dlsr,vlsr,test_d,l,b,ug,vg,wg)\n",
    "print upg, vpg, wpg #km/s"
   ]
  },
  {
   "cell_type": "markdown",
   "metadata": {},
   "source": [
    "## Get Galactocentric tangential velocity components"
   ]
  },
  {
   "cell_type": "code",
   "execution_count": 13,
   "metadata": {},
   "outputs": [
    {
     "data": {
      "text/plain": [
       "(<Quantity 21.896955667014314>,\n",
       " <Quantity 117.0816459030816>,\n",
       " <Quantity 50.0608222038629>,\n",
       " <Quantity 127.33498233832428>)"
      ]
     },
     "execution_count": 13,
     "metadata": {},
     "output_type": "execute_result"
    }
   ],
   "source": [
    "def GETUPPGVPPGWPPG(dlsr,d,l,b,upg,vpg,wpg):\n",
    "#                 --- The transformation equations: ---\n",
    "#       uppg =  upg*cos(beta) + wpg*sin(beta)\n",
    "#       vppg =  vpg\n",
    "#       wppg = -upg*sin(beta) + wpg*cos(beta)\n",
    "#\n",
    "#     --- beta is an angle between the line-of-sight to a galaxy and\n",
    "#         line x (see subroutine GETUPGVPGWPG for definition).\n",
    "#     --- From the law of cosines...\n",
    "\n",
    "    x=np.sqrt(dlsr*dlsr+d*d*cos_deg(b)*cos_deg(b)-2.0*dlsr*d*cos_deg(b)*cos_deg(l))\n",
    "    cosbeta=x/np.sqrt(x*x+d*d*sin_deg(b)*sin_deg(b))\n",
    "    sinbeta=d*sin_deg(b)/np.sqrt(x*x+d*d*sin_deg(b)*sin_deg(b))\n",
    "    uppg =  upg*cosbeta + wpg*sinbeta\n",
    "    vppg = vpg\n",
    "    wppg = -upg*sinbeta + wpg*cosbeta\n",
    "\n",
    "    vt = np.sqrt(vppg**2+wppg**2)\n",
    "    \n",
    "    return uppg, vppg, wppg, vt\n",
    "\n",
    "GETUPPGVPPGWPPG(dlsr, 233000, l, b, upg, vpg, wpg)"
   ]
  },
  {
   "cell_type": "code",
   "execution_count": null,
   "metadata": {
    "collapsed": true
   },
   "outputs": [],
   "source": []
  },
  {
   "cell_type": "code",
   "execution_count": null,
   "metadata": {
    "collapsed": true
   },
   "outputs": [],
   "source": []
  },
  {
   "cell_type": "code",
   "execution_count": null,
   "metadata": {},
   "outputs": [],
   "source": [
    "vcyl = u.Quantity([upg, -vpg, wpg], u.km/u.s) #Theta is in negative direction from usual cylindrical theta velocity\n",
    "\n",
    "from galpy.util.bovy_coords import rect_to_cyl, cyl_to_rect_vec\n",
    "\n",
    "pi, theta, z = rect_to_cyl(positions[0], positions[1], positions[2])\n",
    "print pi, theta, z\n",
    "\n",
    "pcyl = u.Quantity([pi, theta, z], u.kpc)\n",
    "\n",
    "gc.cylindrical_to_cartesian(pcyl, vcyl)"
   ]
  },
  {
   "cell_type": "code",
   "execution_count": null,
   "metadata": {},
   "outputs": [],
   "source": [
    "cyl_to_rect_vec(vr=upg, vt=-vpg, vz=wpg, phi="
   ]
  },
  {
   "cell_type": "code",
   "execution_count": null,
   "metadata": {
    "collapsed": true
   },
   "outputs": [],
   "source": []
  },
  {
   "cell_type": "code",
   "execution_count": null,
   "metadata": {
    "collapsed": true
   },
   "outputs": [],
   "source": []
  },
  {
   "cell_type": "markdown",
   "metadata": {},
   "source": [
    "### Using astropy to get XYZ position"
   ]
  },
  {
   "cell_type": "code",
   "execution_count": null,
   "metadata": {},
   "outputs": [],
   "source": [
    "def getxyz(ra, dec, d):\n",
    "    c = ICRS(ra=ra*u.degree, dec=dec*u.degree, distance=d*u.pc)\n",
    "    galac = c.transform_to(Galactocentric(galcen_distance=8.1999*u.kpc, z_sun=0*u.pc))\n",
    "    return galac \n",
    "positions = getxyz(test_ra, test_dec, test_d)\n",
    "\n",
    "poslist = u.Quantity([-positions.x, -positions.y, positions.z], u.kpc)\n",
    "print poslist"
   ]
  },
  {
   "cell_type": "markdown",
   "metadata": {},
   "source": [
    "___"
   ]
  },
  {
   "cell_type": "markdown",
   "metadata": {},
   "source": [
    "## Development"
   ]
  },
  {
   "cell_type": "code",
   "execution_count": 16,
   "metadata": {},
   "outputs": [
    {
     "name": "stdout",
     "output_type": "stream",
     "text": [
      "[-41.22674788  76.56157507  40.49867244] km / s <class 'astropy.units.quantity.Quantity'>\n"
     ]
    }
   ],
   "source": [
    "def xyzvelocity(ra, dec, dist, mu_a, mu_d, rv):\n",
    "    pm = [mu_a, mu_d] * u.uas/(100*u.yr) \n",
    "    rv = rv * u.km/u.s\n",
    "    frame = Galactocentric(z_sun=0*u.pc, galcen_distance=8.2*u.kpc)\n",
    "    c = SkyCoord(ra=ra*u.deg, dec=dec*u.deg, distance=dist*u.kpc)\n",
    "    d = gc.vhel_to_gal(c.icrs, pm=pm, rv=rv, galactocentric_frame=frame, vlsr=[-usun, -vsun, wsun]*u.km/u.s)\n",
    "    return d\n",
    "\n",
    "xyzvels = xyzvelocity(test_ra, test_dec, test_d, mu_a, mu_d, rv)\n",
    "\n",
    "\n",
    "print xyzvels, type(xyzvels)\n"
   ]
  },
  {
   "cell_type": "code",
   "execution_count": null,
   "metadata": {
    "collapsed": true
   },
   "outputs": [],
   "source": []
  },
  {
   "cell_type": "code",
   "execution_count": null,
   "metadata": {
    "collapsed": true
   },
   "outputs": [],
   "source": []
  },
  {
   "cell_type": "code",
   "execution_count": null,
   "metadata": {
    "collapsed": true
   },
   "outputs": [],
   "source": []
  },
  {
   "cell_type": "markdown",
   "metadata": {},
   "source": [
    "## Mathematical Versions"
   ]
  },
  {
   "cell_type": "code",
   "execution_count": 17,
   "metadata": {},
   "outputs": [
    {
     "data": {
      "text/plain": [
       "{'b': 67.231242804005689, 'l': 220.16912488386765}"
      ]
     },
     "execution_count": 17,
     "metadata": {},
     "output_type": "execute_result"
    }
   ],
   "source": [
    "def radec_to_galactic_pos2(ra, dec, alpha_NGP=alpha_NGP, delta_NGP=delta_NGP, gc_GAN=gc_GAN):\n",
    "    #Finds galactic coords (l, b) of an object given RA, DEC in degrees.       \n",
    "    b = asin_deg(sin_deg(dec)*cos_deg(90.0-delta_NGP)-cos_deg(dec)*sin_deg(ra-(alpha_NGP+90.0))*sin_deg(90.0-delta_NGP))\n",
    "    y = cos_deg(dec)*sin_deg(ra-(alpha_NGP+90.0))*cos_deg(90.0-delta_NGP)+sin_deg(dec)*sin_deg(90.0-delta_NGP)\n",
    "    x = cos_deg(dec)*cos_deg(ra-(alpha_NGP+90.0))\n",
    "    l = atan2_deg(y,x)+gc_GAN\n",
    "    if l < 0:\n",
    "        l += 360\n",
    "    return {'l':l, 'b':b}\n",
    "\n",
    "radec_to_galactic_pos2(test_ra, test_dec)"
   ]
  },
  {
   "cell_type": "code",
   "execution_count": null,
   "metadata": {},
   "outputs": [],
   "source": []
  },
  {
   "cell_type": "code",
   "execution_count": null,
   "metadata": {
    "collapsed": true
   },
   "outputs": [],
   "source": []
  },
  {
   "cell_type": "markdown",
   "metadata": {},
   "source": [
    "## Deprecated"
   ]
  },
  {
   "cell_type": "markdown",
   "metadata": {},
   "source": [
    "## astropy xyz velocity"
   ]
  },
  {
   "cell_type": "code",
   "execution_count": null,
   "metadata": {},
   "outputs": [],
   "source": [
    "def xyzvelocity(ra, dec, dist, mu_a, mu_d, rv):\n",
    "    pm = [mu_a, mu_d] * u.uas/(100*u.yr) \n",
    "    rv = rv * u.km/u.s\n",
    "    frame = Galactocentric(z_sun=0*u.pc, galcen_distance=8.2*u.kpc)\n",
    "    c = SkyCoord(ra=ra*u.deg, dec=dec*u.deg, distance=dist*u.kpc)\n",
    "    d = gc.vhel_to_gal(c.icrs, pm=pm, rv=rv, galactocentric_frame=frame, vlsr=[usun, vsun, wsun]*u.km/u.s)\n",
    "    return d\n",
    "\n",
    "xyzvels = xyzvelocity(test_ra, test_dec, test_d, mu_a, mu_d, rv)\n",
    "\n",
    "print xyzvels, type(xyzvels)"
   ]
  },
  {
   "cell_type": "markdown",
   "metadata": {},
   "source": [
    "## New frame"
   ]
  },
  {
   "cell_type": "code",
   "execution_count": null,
   "metadata": {},
   "outputs": [],
   "source": [
    "from astropy.coordinates import frame_transform_graph\n",
    "from astropy.coordinates.angles import rotation_matrix\n",
    "import astropy.coordinates as coord\n",
    "import astropy.units as u\n",
    "\n",
    "class RealGalactocentric(coord.BaseCoordinateFrame):\n",
    "  \n",
    "    default_representation = coord.CartesianRepresentation\n",
    "\n",
    "@frame_transform_graph.transform(coord.FunctionTransform, coord.Galactocentric, RealGalactocentric)\n",
    "def galactocentric_to_realgalactocentric(galactocentric, realgalactocentric):\n",
    "\n",
    "    x = np.atleast_1d(galactocentric.x)\n",
    "    y = np.atleast_1d(galactocentric.y)\n",
    "    z = np.atleast_1d(galactocentric.z)\n",
    "    X = -x\n",
    "    Y = -y\n",
    "    Z = z\n",
    "        \n",
    "    return RealGalactocentric(x=X, y=Y, z=Z)\n",
    "    \n",
    "@frame_transform_graph.transform(coord.FunctionTransform, RealGalactocentric, coord.Galactocentric)\n",
    "def realgalactocentric_to_galactocentric(realgalactocentric, galactocentric):\n",
    "\n",
    "    X = np.atleast_1d(realgalactocentric.x)\n",
    "    Y = np.atleast_1d(realgalactocentric.y)\n",
    "    Z = np.atleast_1d(realgalactocentric.z)\n",
    "    \n",
    "    x = -X\n",
    "    y = -Y\n",
    "    z = z\n",
    "\n",
    "    return coord.Galactocentric(x=x, y=y, z=z)\n",
    "\n",
    "galacto = coord.Galactocentric(x=-77*u.kpc, y=-58*u.kpc, z=214*u.kpc)\n",
    "galacto.transform_to(RealGalactocentric)"
   ]
  },
  {
   "cell_type": "code",
   "execution_count": null,
   "metadata": {},
   "outputs": [],
   "source": [
    "from astropy.coordinates.builtin_frames.galactocentric import _ROLL0 as ROLL0\n",
    "try:\n",
    "    from astropy.coordinates.matrix_utilities import rotation_matrix, matrix_transpose, matrix_product\n",
    "    ASTROPY_1_3 = True\n",
    "except ImportError:\n",
    "    from .matrix_utilities import rotation_matrix, matrix_transpose, matrix_product\n",
    "    ASTROPY_1_3 = False\n",
    "\n",
    "if not ASTROPY_1_3:\n",
    "    import astropy\n",
    "    import warnings\n",
    "    warnings.warn(\"We recommend using Astropy v1.3 or later. You have: {}\"\n",
    "                  .format(astropy.__version__), DeprecationWarning)\n",
    "\n",
    "def _icrs_gctc_velocity_matrix(galactocentric_frame):\n",
    "    \"\"\"\n",
    "    Construct a transformation matrix to go from heliocentric ICRS to a galactocentric\n",
    "    frame. This is just a rotation and tilt which makes it approximately the same\n",
    "    as transforming to Galactic coordinates. This only works for velocity because there\n",
    "    is no shift due to the position of the Sun.\n",
    "    \"\"\"\n",
    "\n",
    "    # define rotation matrix to align x(ICRS) with the vector to the Galactic center\n",
    "    M1 = rotation_matrix(-galactocentric_frame.galcen_dec, 'y')\n",
    "    M2 = rotation_matrix(galactocentric_frame.galcen_ra, 'z')\n",
    "\n",
    "    # extra roll away from the Galactic x-z plane\n",
    "    M3 = rotation_matrix(ROLL0 - galactocentric_frame.roll, 'x')\n",
    "\n",
    "    # rotate about y' to account for tilt due to Sun's height above the plane\n",
    "    z_d = (galactocentric_frame.z_sun / galactocentric_frame.galcen_distance).decompose()\n",
    "    M4 = rotation_matrix(-np.arcsin(z_d), 'y')\n",
    "\n",
    "    return matrix_product(M4, M3, M1, M2)\n",
    "\n",
    "VCIRC = 220.*u.km/u.s\n",
    "VLSR = [10., 5.25, 7.17]\n",
    "\n",
    "def vhel_to_gal(coordinate, pm, rv, vcirc=VCIRC, vlsr=VLSR, galactocentric_frame=None):\n",
    "\n",
    "    if galactocentric_frame is None:\n",
    "        galactocentric_frame = coord.Galactocentric\n",
    "\n",
    "    # make sure this is a coordinate and get the frame for later use\n",
    "    c = coordinate\n",
    "\n",
    "    if c.name == 'icrs':\n",
    "        pm_radec = u.Quantity(map(np.atleast_1d,pm))\n",
    "        icrs = c\n",
    "\n",
    "    else:\n",
    "        pm_radec = transform_proper_motion(c, pm, coord.ICRS)\n",
    "        icrs = c.transform_to(coord.ICRS)\n",
    "\n",
    "    # I'm so fired\n",
    "    a,d,D = icrs.ra, icrs.dec, c.distance\n",
    "\n",
    "    # proper motion components: longitude, latitude\n",
    "    mura_cosdec, mudec = pm_radec\n",
    "    vra = (D*mura_cosdec).to(rv.unit, equivalencies=u.dimensionless_angles())\n",
    "    vdec = (D*mudec).to(rv.unit, equivalencies=u.dimensionless_angles())\n",
    "\n",
    "    v_icrs = [rv*np.cos(a)*np.cos(d) - vra*np.sin(a) - vdec*np.cos(a)*np.sin(d),\n",
    "              rv*np.sin(a)*np.cos(d) + vra*np.cos(a) - vdec*np.sin(a)*np.sin(d),\n",
    "              rv*np.sin(d) + vdec*np.cos(d)]\n",
    "    v_icrs = np.array([v.to(u.km/u.s).value for v in v_icrs]) * u.km/u.s\n",
    "    \n",
    "    R = _icrs_gctc_velocity_matrix(galactocentric_frame)\n",
    "\n",
    "    orig_shape = v_icrs.shape\n",
    "    v_gc = R.dot(v_icrs.reshape(v_icrs.shape[0], -1)).reshape(orig_shape)\n",
    "\n",
    "    #Correct for reverse sign on x and y axes\n",
    "    v_gc[0]=-v_gc[0]\n",
    "    v_gc[1]=-v_gc[1]\n",
    "    \n",
    "    # remove circular and LSR velocities\n",
    "    v_gc[1] = v_gc[1] + vcirc #Changed from plus sign\n",
    "    for i in range(3):\n",
    "        v_gc[i] = v_gc[i] + vlsr[i] #originally plus sign\n",
    "\n",
    "    if c.isscalar:\n",
    "        return v_gc.reshape((3,))\n",
    "    else:\n",
    "        return v_gc"
   ]
  },
  {
   "cell_type": "code",
   "execution_count": null,
   "metadata": {},
   "outputs": [],
   "source": [
    "def xyzvelocity(ra, dec, dist, mu_a, mu_d, rv):\n",
    "    pm = [mu_a, mu_d] * u.uas/(100*u.yr) \n",
    "    rv = rv * u.km/u.s\n",
    "    frame = Galactocentric(z_sun=0*u.pc, galcen_distance=8.2*u.kpc)\n",
    "    c = SkyCoord(ra=ra*u.deg, dec=dec*u.deg, distance=dist*u.kpc)\n",
    "    d = vhel_to_gal(c.icrs, pm=pm, rv=rv, galactocentric_frame=frame, vlsr=[usun, vsun, wsun]*u.km/u.s)\n",
    "    return d\n",
    "\n",
    "xyzvels = xyzvelocity(test_ra, test_dec, test_d, mu_a, mu_d, rv)\n",
    "\n",
    "\n",
    "print xyzvels, type(xyzvels)"
   ]
  },
  {
   "cell_type": "code",
   "execution_count": null,
   "metadata": {},
   "outputs": [],
   "source": [
    "from galpy.util.bovy_coords import vrpmllpmbb_to_vxvyvz, vxvyvz_to_galcenrect, rect_to_cyl\n",
    "\n",
    "vxvyvz = vrpmllpmbb_to_vxvyvz(79.1, 0.061708153, -0.092257718, 220.16913737, 67.2312443585, 233, XYZ=False, degree=True)\n",
    "print vxvyvz\n",
    "\n",
    "\n",
    "vxvyvz_to_galcenrect(vxvyvz[0], vxvyvz[1], vxvyvz[2], [usun, vsun, wsun], 8.2, 0)\n"
   ]
  },
  {
   "cell_type": "code",
   "execution_count": null,
   "metadata": {
    "collapsed": true
   },
   "outputs": [],
   "source": []
  }
 ],
 "metadata": {
  "kernelspec": {
   "display_name": "Python 2",
   "language": "python",
   "name": "python2"
  },
  "language_info": {
   "codemirror_mode": {
    "name": "ipython",
    "version": 2
   },
   "file_extension": ".py",
   "mimetype": "text/x-python",
   "name": "python",
   "nbconvert_exporter": "python",
   "pygments_lexer": "ipython2",
   "version": "2.7.13"
  }
 },
 "nbformat": 4,
 "nbformat_minor": 2
}
