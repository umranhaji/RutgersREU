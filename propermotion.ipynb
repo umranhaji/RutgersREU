{
 "cells": [
  {
   "cell_type": "markdown",
   "metadata": {},
   "source": [
    "## Test data"
   ]
  },
  {
   "cell_type": "code",
   "execution_count": 17,
   "metadata": {
    "collapsed": true
   },
   "outputs": [],
   "source": [
    "test_ra = 168.3700 #degrees\n",
    "test_dec = 22.15167 #degrees\n",
    "test_d = 233 #kpc\n",
    "mu_a = -6.930000 #mas/cent\n",
    "mu_d = -8.670000 #mas/cent\n",
    "rv = 79.1 #km/s"
   ]
  },
  {
   "cell_type": "markdown",
   "metadata": {},
   "source": [
    "## Python Functions to Get Positions and Velocities"
   ]
  },
  {
   "cell_type": "code",
   "execution_count": 223,
   "metadata": {},
   "outputs": [],
   "source": [
    "import numpy as np\n",
    "from astropy import units as u\n",
    "from astropy.coordinates import SkyCoord, Galactocentric, ICRS, Galactic\n",
    "import gala.coordinates as gc\n",
    "    \n",
    "#Constants\n",
    "asec_to_rad = 206264.8 #Converts arcseconds to radians\n",
    "year_to_sec = 3.155693e7 #Converts from years to seconds\n",
    "pc_to_km = 3.08568e13 #Converts from pc to km\n",
    "year_to_day = 365.2422 #Converts years to days\n",
    "ra_lsr = 318.00425 #RA of the apex of the LSR motion (ie., l=90, b=0)     \n",
    "dec_lsr = 48.329611 #DEC of the apex of the LSR motion (J2000.0)\n",
    "ra_sa = 251.51 #RA of the apex of the solar peculiar motion (wrt LSR) J2000.0 \n",
    "dec_sa = 10.129 #DEC of the apex of the solar peculiar motion (wrt LSR)\n",
    "alpha_NGP = 192.85948 #RA in degrees of the Galactic Pole (J2000.0)\n",
    "delta_NGP = 27.12825 #DEC in degrees of the Galactic Pole (J2000.0)\n",
    "gc_GAN = 32.93192 #Angle along galactic equator from (l,b)=(0,0) to galactic ascending node\n",
    "l_NCP = 122.9319#Galactic longitude of the NCP (J2000.0)\n",
    "b_NCP =  27.1283#Galactic latitude of the NCP  (J2000.0)\n",
    "usun = -10.0 #U-component of Sun's velocity w.r.t. LSR; Dehnen & Binney                  \n",
    "vsun = 11.0 #V-component of Sun's velocity w.r.t. LSR; 1998, MNRAS, \n",
    "wsun = 7.0 #W-component of Sun's velocity w.r.t. LSR; 298, 387\n",
    "vlsr = 237.0 #Circular velocity of LSR w.r.t. Galaxy center in km/s\n",
    "dlsr = 8.2 #Distance of LSR from the Galaxy center in pc\n",
    "\n",
    "def sin_deg(x):\n",
    "    #Sine function for degree-valued args\n",
    "    deg_to_rad = 1.74532925199e-02\n",
    "    return np.sin(np.deg2rad(x))\n",
    "\n",
    "def cos_deg(x):\n",
    "    #Cosine function for degree-valued args\n",
    "    return np.cos(np.deg2rad(x))\n",
    "\n",
    "def asin_deg(x):\n",
    "    #Gives asin in degrees\n",
    "    return np.rad2deg(np.arcsin(x))\n",
    "\n",
    "def acos_deg(x):\n",
    "    #Gives acos in degrees\n",
    "    return np.rad2deg(np.arccos(x))\n",
    "\n",
    "def atan2_deg(y,x):\n",
    "    #Gives atan2 in degrees\n",
    "    return np.rad2deg(np.arctan2(y,x))\n",
    "\n",
    "def radec_to_lb(ra, dec):\n",
    "    #Returns dictionary of galactic coords (l, b) in degrees, given an object's RA/DEC in degrees\n",
    "    coords = SkyCoord(ra=ra*u.degree, dec=dec*u.degree, frame='icrs')\n",
    "    galactic = coords.galactic\n",
    "    return galactic.l.deg, galactic.b.deg\n",
    "\n",
    "def lb_to_galactic_xyz(l, b, d, dlsr):\n",
    "    #Takes l and b in degrees, d (distance to object) in kpc, dlsr in kpc\n",
    "    x = (dlsr-d*cos_deg(b)*cos_deg(l))\n",
    "    y = -d*cos_deg(b)*sin_deg(l)\n",
    "    z = d*sin_deg(b)\n",
    "    return x, y, z #kpc\n",
    "\n",
    "def pm_radec_to_lb(ra, dec, dist, mu_a, mu_d, rv):\n",
    "    #Takes ra/dec in degrees, distance in pc, mu_a/mu_d in mas/cent, rv in km/s. Returns mu_l/mu_b in mas/cent\n",
    "    c = SkyCoord(ra=ra*u.deg, dec=dec*u.deg, distance=dist*u.pc)\n",
    "    pm = [mu_a, mu_d] * u.mas/(100*u.yr) \n",
    "    \n",
    "    result = gc.pm_icrs_to_gal(c, pm).to(u.mas/(u.yr))*u.yr/u.mas\n",
    "    mu_l = result[0]*100\n",
    "    mu_b = result[1]*100\n",
    "    return mu_l, mu_b\n",
    "\n",
    "def GETVT(mux,muy,d,asec_to_rad=asec_to_rad,year_to_sec=year_to_sec,pc_to_km=pc_to_km):\n",
    "    #mux, muy in mas/cent, distance in kpc\n",
    "    #Get into arcsec/year\n",
    "    mux = (mux*(1e-3)/100)\n",
    "    muy = (muy*(1e-3)/100)\n",
    "\n",
    "    vtx=mux*d*1000*pc_to_km/(year_to_sec*asec_to_rad)\n",
    "    vty=muy*d*1000*pc_to_km/(year_to_sec*asec_to_rad)\n",
    "    vt=np.sqrt(vtx*vtx+vty*vty)\n",
    "    return vtx, vty, vt  \n",
    "\n",
    "def get_v_wrt_lsr(l, b, vtl, vtb, v_r_sun, usun, vsun, wsun):\n",
    "    #Finds velocity of galaxy wrt LSR. velocity inputs are in km/s\n",
    "    \n",
    "    #Theta direction\n",
    "    vg = v_r_sun*cos_deg(b)*sin_deg(l) - vtb*sin_deg(b)*sin_deg(l)+vtl*cos_deg(l) + vsun\n",
    "    #Pi direction\n",
    "    ug = -v_r_sun*cos_deg(b)*cos_deg(l) + vtb*sin_deg(b)*cos_deg(l) + vtl*sin_deg(l) + usun\n",
    "    #Z direction\n",
    "    wg =  v_r_sun*sin_deg(b) + vtb*cos_deg(b) + wsun\n",
    "    \n",
    "    return ug, vg, wg #km/s\n",
    "\n",
    "def get_v_cyl(l,b,d,ug,vg,wg, dlsr=dlsr, vlsr=vlsr):\n",
    "    #input velocities in km/s, distainces in kpc\n",
    "    \n",
    "    x=np.sqrt(dlsr*dlsr+d*d*cos_deg(b)*cos_deg(b)-2.0*dlsr*d*cos_deg(b)*cos_deg(l))\n",
    "    sinalpha=d*cos_deg(b)*sin_deg(l)/x\n",
    "    cosalpha=(x*x+dlsr*dlsr-d*d*cos_deg(b)*cos_deg(b))/(2.0*x*dlsr)\n",
    "\n",
    "    vpi =  ug*cosalpha + (vg+vlsr)*sinalpha\n",
    "    vtheta = -ug*sinalpha + (vg+vlsr)*cosalpha\n",
    "    vz =  wg\n",
    "    \n",
    "    #upg(2) =  sqrt((ug(2)*cosalpha)**2 + (vg(2)*sinalpha)**2)\n",
    "    #vpg(2) =  sqrt((ug(2)*sinalpha)**2 + (vg(2)*cosalpha)**2)\n",
    "    #wpg(2) =  wg(2)\n",
    "    \n",
    "    return vpi, vtheta, vz #km/s\n",
    "\n",
    "def get_v_xyz(l, b, d, vpi, vth, vz, dlsr=dlsr):\n",
    "    #distances in kpc, vels in km/s\n",
    "\n",
    "    x=dlsr-d*cos_deg(b)*cos_deg(l)\n",
    "    y=-d*cos_deg(b)*sin_deg(l)\n",
    "    z=d*sin_deg(b)\n",
    "\n",
    "    costh=x/np.sqrt(x**2+y**2)\n",
    "    sinth=-y/np.sqrt(x**2+y**2)\n",
    "    vx=vpi*costh-vth*sinth\n",
    "    vy=-vpi*sinth-vth*costh\n",
    "    \n",
    "    return vx, vy, vz\n",
    "\n",
    "def get_v_spherical(l, b, d, vpi, vtheta, vz, dlsr=dlsr):\n",
    "#                 --- The transformation equations: ---\n",
    "#       uppg =  upg*cos(beta) + wpg*sin(beta)\n",
    "#       vppg =  vpg\n",
    "#       wppg = -upg*sin(beta) + wpg*cos(beta)\n",
    "#\n",
    "#     --- beta is an angle between the line-of-sight to a galaxy and\n",
    "#         line x (see subroutine GETUPGVPGWPG for definition).\n",
    "#     --- From the law of cosines...\n",
    "\n",
    "    x=np.sqrt(dlsr*dlsr+d*d*cos_deg(b)*cos_deg(b)-2.0*dlsr*d*cos_deg(b)*cos_deg(l))\n",
    "    cosbeta=x/np.sqrt(x*x+d*d*sin_deg(b)*sin_deg(b))\n",
    "    sinbeta=d*sin_deg(b)/np.sqrt(x*x+d*d*sin_deg(b)*sin_deg(b))\n",
    "    vr =  vpi*cosbeta + vz*sinbeta\n",
    "    vrot = vtheta\n",
    "    v_perp_radial = -vpi*sinbeta + vz*cosbeta\n",
    "\n",
    "    vt = np.sqrt(vrot**2+v_perp_radial**2)\n",
    "    \n",
    "    return vr, vrot, v_perp_radial, vt"
   ]
  },
  {
   "cell_type": "markdown",
   "metadata": {},
   "source": [
    "## Print Values"
   ]
  },
  {
   "cell_type": "code",
   "execution_count": 87,
   "metadata": {},
   "outputs": [
    {
     "name": "stdout",
     "output_type": "stream",
     "text": [
      "l = 220.16913737, b = 67.2312443585 (deg)\n",
      "\n",
      "Galactocentric X, Y, Z = 77.1058750111, 58.1663853521, 214.843319663 (kpc)\n",
      "\n",
      "mu_l = 6.17081529568, mu_b = -9.22577180982 (mas/cent)\n",
      "\n",
      "v_tang in l direction = 68.1599852049, v_tang in b direction = -101.903628602, v_tang total = 122.597443307 (km/s)\n",
      "\n",
      "Velocities of galaxy wrt LSR:\n",
      "u = 41.2271830735, v = -121.440923417, w = 40.498068962 (km/s)\n",
      "\n",
      "Cylindrical velocities:\n",
      "vpi = -36.6806351847, vtheta = 117.081645903, vz = 40.498068962 (km/s)\n",
      "\n",
      "Galactocentric XYZ velocities:\n",
      "Vx = 41.2271830735, Vy = -115.559076583, Vz = 40.498068962 (km/s)\n",
      "\n",
      "Radial velocity = 21.896955667 (km/s)\n",
      "Velocity in direction of disk rotation = 117.081645903 (km/s)\n",
      "V up and perp to radial = 50.0608222039 (km/s)\n",
      "Tangential velocity = 127.334982338 (km/s)\n"
     ]
    }
   ],
   "source": [
    "l, b = radec_to_lb(test_ra, test_dec)\n",
    "print \"l = {0}, b = {1}\" .format(l,b) +\" (deg)\" + \"\\n\"\n",
    "\n",
    "x0, y0, z0 = [i for i in lb_to_galactic_xyz(l, b, test_d, dlsr)]\n",
    "print \"Galactocentric X, Y, Z = {0}, {1}, {2}\" .format(x0, y0, z0) + \" (kpc)\" + \"\\n\"\n",
    "\n",
    "mu_l, mu_b = pm_radec_to_lb(test_ra, test_dec, test_d, mu_a, mu_d, rv) #*u.yr/u.mas\n",
    "print \"mu_l = {0}, mu_b = {1}\" .format (mu_l, mu_b) + \" (mas/cent)\" + \"\\n\"\n",
    "\n",
    "vtl, vtb, vt = GETVT(mu_l, mu_b, test_d)\n",
    "print \"v_tang in l direction = {0}, v_tang in b direction = {1}, v_tang total = {2}\".format(vtl, vtb, vt) \\\n",
    "+ \" (km/s)\" + \"\\n\"\n",
    "\n",
    "ug, vg, wg = get_v_wrt_lsr(l, b, vtl, vtb, rv, usun, vsun, wsun)\n",
    "print \"Velocities of galaxy wrt LSR:\"\n",
    "print \"u = {0}, v = {1}, w = {2}\" .format(ug, vg, wg) + \" (km/s)\" + \"\\n\"\n",
    "\n",
    "vpi, vtheta, vz = get_v_cyl(l,b,test_d,ug,vg,wg)\n",
    "print \"Cylindrical velocities:\"\n",
    "print \"vpi = {0}, vtheta = {1}, vz = {2}\" .format(vpi, vtheta, vz) + \" (km/s)\" + \"\\n\"\n",
    "\n",
    "vx0, vy0, vz0 = get_v_xyz(l, b, test_d, vpi, vtheta, vz)\n",
    "print \"Galactocentric XYZ velocities:\"\n",
    "print \"Vx = {0}, Vy = {1}, Vz = {2}\" .format (vx0, vy0, vz0) + \" (km/s)\" + \"\\n\"\n",
    "\n",
    "vr, vrot, v_perp_radial, vt = get_v_spherical(l, b, test_d, vpi, vtheta, vz)\n",
    "print \"Radial velocity = {0}\" .format(vr) + \" (km/s)\"\n",
    "print \"Velocity in direction of disk rotation = {0}\" .format(vrot) + \" (km/s)\"\n",
    "print \"V up and perp to radial = {0}\" .format(v_perp_radial) + \" (km/s)\"\n",
    "print \"Tangential velocity = {0}\" .format(vt) + \" (km/s)\""
   ]
  },
  {
   "cell_type": "markdown",
   "metadata": {},
   "source": [
    "# Orbit"
   ]
  },
  {
   "cell_type": "code",
   "execution_count": 145,
   "metadata": {},
   "outputs": [
    {
     "name": "stdout",
     "output_type": "stream",
     "text": [
      "220.16913737 67.2312443585 233\n",
      "77.1058750111 58.1663853521 214.843319663\n",
      "41.2271830735 -115.559076583 40.498068962\n",
      "27182.7219156 5734.74582831 -11308.3199331\n"
     ]
    }
   ],
   "source": [
    "#Constants\n",
    "G = 4.498933261e-6 #Gravitational constant in kpc^3/(M_sun Gyr)\n",
    "vcon = 1.0226903 #Conversion factor from kpc/Gyr to km/s (i.e. multiply by km/s to get kpc/Gyr)\n",
    "\n",
    "print l, b, test_d\n",
    "print x0, y0, z0\n",
    "print vx0, vy0, vz0\n",
    "\n",
    "\n",
    "#Initial angular momenta\n",
    "amx0=y0*vz0-z0*vy0\n",
    "amy0=z0*vx0-x0*vz0\n",
    "amz0=x0*vy0-y0*vx0\n",
    "\n",
    "print amx0, amy0, amz0\n",
    "\n",
    "NMC = 1000 #number of MC experiments\n"
   ]
  },
  {
   "cell_type": "markdown",
   "metadata": {},
   "source": [
    "## XENERGY, XFORCE"
   ]
  },
  {
   "cell_type": "code",
   "execution_count": 92,
   "metadata": {},
   "outputs": [
    {
     "name": "stdout",
     "output_type": "stream",
     "text": [
      "8729.91904415 -2530.30156307 -173.803322552 -33269.8254141 -27244.0112556\n"
     ]
    }
   ],
   "source": [
    "def XENERGY(x, y, z, vx, vy, vz, vcon=vcon, G=G):\n",
    "    #bulge parameters\n",
    "    mb=9.1e9\n",
    "    rc=2.1\n",
    "    \n",
    "    #disk parameters\n",
    "    #increase disk mass to get higher v_c at R=R_0.\n",
    "    \n",
    "    a=4.9e0\n",
    "    b=0.30e0\n",
    "    md=1.35e11\n",
    "    \n",
    "    #halo parameters\n",
    "    mv=1.16e12\n",
    "    c=10.0\n",
    "    ra=28.2\n",
    "\n",
    "    #The kinetic energy per unit mass\n",
    "    ke=vcon*vcon*(vx*vx+vy*vy+vz*vz)/2.0\n",
    "    \n",
    "    #The potential energy per unit mass\n",
    "    r  = np.sqrt(x*x+y*y+z*z)\n",
    "    rd2 = x*x+y*y\n",
    "    \n",
    "    #disk\n",
    "    phi1=-G*md/np.sqrt(rd2+(a+np.sqrt(z*z+b*b))**2)\n",
    "\n",
    "    #bulge; this isn't right, but is accurate for r >> rc and that\n",
    "    #is the region of interest for all or almost all of our range of\n",
    "    #integration\n",
    "    \n",
    "    if r > rc/2.0:\n",
    "        phi2 = -G*mb/r\n",
    "    else:\n",
    "        phi2 = -G*2.0*mb/rc\n",
    "        \n",
    "    #halo\n",
    "    phi3 = -G*(mv/(np.log(1.0+c)-c/(1.0+c))) * np.log(1.0+r/ra)/r\n",
    "\n",
    "    e=ke+phi1+phi2+phi3\n",
    "\n",
    "    return ke,phi1,phi2,phi3,e\n",
    "\n",
    "ke, phi1, phi2, phi3, e = XENERGY(x0, y0, z0, vx0, vy0, vz0)\n",
    "print ke, phi1, phi2, phi3, e"
   ]
  },
  {
   "cell_type": "code",
   "execution_count": 239,
   "metadata": {},
   "outputs": [
    {
     "name": "stdout",
     "output_type": "stream",
     "text": [
      "0.135335283237\n",
      "0.135335283236613\n"
     ]
    }
   ],
   "source": [
    "def gammq2(a, x):\n",
    "    import scipy.special\n",
    "    #Upper incomplete gamma function i.e. 1 - gamma\n",
    "    #return scipy.special.gammaincc(a,x)\n",
    "    return scipy.special.gammaincc(a,x)\n",
    "print gammq2(1,2)\n",
    "\n",
    "\n",
    "\n",
    "def gammq(a,x):\n",
    "    #a-1 is power inside the integral\n",
    "    #x = lower bound of integration\n",
    "    #mpmath.gammainc defines them differently,\n",
    "    #so we make the switch when calling it herein\n",
    "    import mpmath\n",
    "    mpmath.mp.dps = 15 # arbitrary precision!\n",
    "    return mpmath.gammainc(z=a, a=x, regularized=True)\n",
    "print gammq(1,2)"
   ]
  },
  {
   "cell_type": "code",
   "execution_count": 246,
   "metadata": {},
   "outputs": [
    {
     "name": "stdout",
     "output_type": "stream",
     "text": [
      "(mpf('-31.39233213980949'), mpf('-23.681444352731319'), mpf('-87.684957932643584'))\n"
     ]
    }
   ],
   "source": [
    "def XFORCE(x, y, z, G=G):\n",
    "\n",
    "    #bulge parameters\n",
    "    mb=9.1e9\n",
    "    rc=2.1\n",
    "    #increase disk mass to get higher v_c at R=R_0.\n",
    "    a=4.9\n",
    "    b=0.30\n",
    "    md=1.35e11\n",
    "    #halo parameters\n",
    "    mv=1.16e12\n",
    "    c=10.0\n",
    "    ra=28.2\n",
    "    \n",
    "    r  = np.sqrt(x*x+y*y+z*z)\n",
    "    rd2 = x*x+y*y\n",
    "    \n",
    "    #bulge radial force: -GM_b(r)/r*r\n",
    "    mb_r = mb*(1.-1.0891*np.exp(-r/rc)*(r/rc)**.2 - gammq(.2, r/rc))\n",
    "    #mb_r=mb*(1.00 - 1.0891*np.exp(-r/rc)*(r/rc)**.2 - gammq(.2,r/rc))\n",
    "    fb_r = -G*mb_r/(r*r)\n",
    "\n",
    "    #NFW halo radial force: -GM_nfw(r)/r*r\n",
    "    mnfw_r=mv*(np.log(1.0+r/ra)-r/(ra+r))/(np.log(1.0+c)-c/(1.0+c))\n",
    "    fh_r = -G*mnfw_r/(r*r)\n",
    "\n",
    "    #Find the X components of the force.\n",
    "    fx1=-G*md*x/(np.sqrt(rd2+(a+np.sqrt(z*z+b*b))**2))**3\n",
    "    fx2=x*fb_r/r\n",
    "    fx3=x*fh_r/r\n",
    "    fx=fx1+fx2+fx3\n",
    "\n",
    "    #Find the Y components of the force.\n",
    "    fy1=-G*md*y/(np.sqrt(rd2+(a+np.sqrt(z*z+b*b))**2))**3\n",
    "    fy2=y*fb_r/r\n",
    "    fy3=y*fh_r/r\n",
    "    fy=fy1+fy2+fy3\n",
    "    \n",
    "    #Find the Z components of the force.\n",
    "    fz1=-G*md*z/(np.sqrt(rd2+(a+np.sqrt(z*z+b*b))**2))**3\n",
    "    fz1=fz1*(1.0+a/np.sqrt(z*z+b*b))\n",
    "    fz2=z*fb_r/r\n",
    "    fz3=z*fh_r/r\n",
    "    fz=fz1+fz2+fz3\n",
    "\n",
    "    return fx, fy, fz\n",
    "\n",
    "print XFORCE(x0, y0, z0)\n",
    "fx, fy, fz = XFORCE(x0, y0, z0)"
   ]
  },
  {
   "cell_type": "code",
   "execution_count": 247,
   "metadata": {},
   "outputs": [
    {
     "name": "stdout",
     "output_type": "stream",
     "text": [
      "0.005\n"
     ]
    }
   ],
   "source": [
    "NSTEP = 1000. #Number of integration steps\n",
    "t = 5. #total integration time in Gyr\n",
    "dt = t/NSTEP #timestep interval size in GYr\n",
    "print dt"
   ]
  },
  {
   "cell_type": "markdown",
   "metadata": {},
   "source": [
    "# Integrate orbit"
   ]
  },
  {
   "cell_type": "code",
   "execution_count": 248,
   "metadata": {},
   "outputs": [
    {
     "name": "stdout",
     "output_type": "stream",
     "text": [
      "<class 'astropy.units.quantity.Quantity'>\n",
      "79.1747666072084 52.2277262116938 216.804562580887\n"
     ]
    },
    {
     "ename": "TypeError",
     "evalue": "attribute of type 'int' is not callable",
     "output_type": "error",
     "traceback": [
      "\u001b[0;31m---------------------------------------------------------------------------\u001b[0m",
      "\u001b[0;31mTypeError\u001b[0m                                 Traceback (most recent call last)",
      "\u001b[0;32m<ipython-input-248-b99ebc06474e>\u001b[0m in \u001b[0;36m<module>\u001b[0;34m()\u001b[0m\n\u001b[1;32m     32\u001b[0m         \u001b[0;32mprint\u001b[0m \u001b[0mx\u001b[0m\u001b[0;34m,\u001b[0m\u001b[0my\u001b[0m\u001b[0;34m,\u001b[0m\u001b[0mz\u001b[0m\u001b[0;34m\u001b[0m\u001b[0m\n\u001b[1;32m     33\u001b[0m \u001b[0;34m\u001b[0m\u001b[0m\n\u001b[0;32m---> 34\u001b[0;31m \u001b[0mintegrate_orbit\u001b[0m\u001b[0;34m(\u001b[0m\u001b[0;34m'X'\u001b[0m\u001b[0;34m)\u001b[0m\u001b[0;34m\u001b[0m\u001b[0m\n\u001b[0m",
      "\u001b[0;32m<ipython-input-248-b99ebc06474e>\u001b[0m in \u001b[0;36mintegrate_orbit\u001b[0;34m(pot, x, y, z, vx, vy, vz, vcon, dt, NSTEP)\u001b[0m\n\u001b[1;32m     15\u001b[0m     \u001b[0;32mfor\u001b[0m \u001b[0mi\u001b[0m \u001b[0;32min\u001b[0m \u001b[0mnp\u001b[0m\u001b[0;34m.\u001b[0m\u001b[0marange\u001b[0m\u001b[0;34m(\u001b[0m\u001b[0mNSTEP\u001b[0m\u001b[0;34m-\u001b[0m\u001b[0;36m1\u001b[0m\u001b[0;34m)\u001b[0m\u001b[0;34m:\u001b[0m\u001b[0;34m\u001b[0m\u001b[0m\n\u001b[1;32m     16\u001b[0m         \u001b[0;32mif\u001b[0m \u001b[0mpot\u001b[0m \u001b[0;34m==\u001b[0m \u001b[0;34m'X'\u001b[0m\u001b[0;34m:\u001b[0m\u001b[0;34m\u001b[0m\u001b[0m\n\u001b[0;32m---> 17\u001b[0;31m             \u001b[0mfx\u001b[0m\u001b[0;34m,\u001b[0m \u001b[0mfy\u001b[0m\u001b[0;34m,\u001b[0m \u001b[0mfz\u001b[0m \u001b[0;34m=\u001b[0m \u001b[0mXFORCE\u001b[0m\u001b[0;34m(\u001b[0m\u001b[0mx\u001b[0m\u001b[0;34m,\u001b[0m\u001b[0my\u001b[0m\u001b[0;34m,\u001b[0m\u001b[0mz\u001b[0m\u001b[0;34m)\u001b[0m\u001b[0;34m\u001b[0m\u001b[0m\n\u001b[0m\u001b[1;32m     18\u001b[0m         \u001b[0mvx\u001b[0m\u001b[0;34m=\u001b[0m\u001b[0mvx\u001b[0m\u001b[0;34m+\u001b[0m\u001b[0;36m0.5\u001b[0m\u001b[0;34m*\u001b[0m\u001b[0mdt\u001b[0m\u001b[0;34m*\u001b[0m\u001b[0mfx\u001b[0m\u001b[0;34m/\u001b[0m\u001b[0mvcon\u001b[0m\u001b[0;34m\u001b[0m\u001b[0m\n\u001b[1;32m     19\u001b[0m         \u001b[0mvy\u001b[0m\u001b[0;34m=\u001b[0m\u001b[0mvy\u001b[0m\u001b[0;34m+\u001b[0m\u001b[0;36m0.5\u001b[0m\u001b[0;34m*\u001b[0m\u001b[0mdt\u001b[0m\u001b[0;34m*\u001b[0m\u001b[0mfy\u001b[0m\u001b[0;34m/\u001b[0m\u001b[0mvcon\u001b[0m\u001b[0;34m\u001b[0m\u001b[0m\n",
      "\u001b[0;32m<ipython-input-246-4b50464f8b4f>\u001b[0m in \u001b[0;36mXFORCE\u001b[0;34m(x, y, z, G)\u001b[0m\n\u001b[1;32m     17\u001b[0m \u001b[0;34m\u001b[0m\u001b[0m\n\u001b[1;32m     18\u001b[0m     \u001b[0;31m#bulge radial force: -GM_b(r)/r*r\u001b[0m\u001b[0;34m\u001b[0m\u001b[0;34m\u001b[0m\u001b[0m\n\u001b[0;32m---> 19\u001b[0;31m     \u001b[0mmb_r\u001b[0m \u001b[0;34m=\u001b[0m \u001b[0mmb\u001b[0m\u001b[0;34m*\u001b[0m\u001b[0;34m(\u001b[0m\u001b[0;36m1.\u001b[0m\u001b[0;34m-\u001b[0m\u001b[0;36m1.0891\u001b[0m\u001b[0;34m*\u001b[0m\u001b[0mnp\u001b[0m\u001b[0;34m.\u001b[0m\u001b[0mexp\u001b[0m\u001b[0;34m(\u001b[0m\u001b[0;34m-\u001b[0m\u001b[0mr\u001b[0m\u001b[0;34m/\u001b[0m\u001b[0mrc\u001b[0m\u001b[0;34m)\u001b[0m\u001b[0;34m*\u001b[0m\u001b[0;34m(\u001b[0m\u001b[0mr\u001b[0m\u001b[0;34m/\u001b[0m\u001b[0mrc\u001b[0m\u001b[0;34m)\u001b[0m\u001b[0;34m**\u001b[0m\u001b[0;36m.2\u001b[0m \u001b[0;34m-\u001b[0m \u001b[0mgammq\u001b[0m\u001b[0;34m(\u001b[0m\u001b[0;36m.2\u001b[0m\u001b[0;34m,\u001b[0m \u001b[0mr\u001b[0m\u001b[0;34m/\u001b[0m\u001b[0mrc\u001b[0m\u001b[0;34m)\u001b[0m\u001b[0;34m)\u001b[0m\u001b[0;34m\u001b[0m\u001b[0m\n\u001b[0m\u001b[1;32m     20\u001b[0m     \u001b[0;31m#mb_r=mb*(1.00 - 1.0891*np.exp(-r/rc)*(r/rc)**.2 - gammq(.2,r/rc))\u001b[0m\u001b[0;34m\u001b[0m\u001b[0;34m\u001b[0m\u001b[0m\n\u001b[1;32m     21\u001b[0m     \u001b[0mfb_r\u001b[0m \u001b[0;34m=\u001b[0m \u001b[0;34m-\u001b[0m\u001b[0mG\u001b[0m\u001b[0;34m*\u001b[0m\u001b[0mmb_r\u001b[0m\u001b[0;34m/\u001b[0m\u001b[0;34m(\u001b[0m\u001b[0mr\u001b[0m\u001b[0;34m*\u001b[0m\u001b[0mr\u001b[0m\u001b[0;34m)\u001b[0m\u001b[0;34m\u001b[0m\u001b[0m\n",
      "\u001b[0;31mTypeError\u001b[0m: attribute of type 'int' is not callable"
     ]
    }
   ],
   "source": [
    "NSTEP = 100. #Number of integration steps\n",
    "t = 5. #total integration time in Gyr\n",
    "dt = t/NSTEP #timestep interval size in Gyr\n",
    "\n",
    "def integrate_orbit(pot, x=x0, y=y0, z=z0, vx=vx0, vy=vy0, vz=vz0, vcon=vcon, dt=dt, NSTEP=NSTEP):\n",
    "    \n",
    "    timestep = 0.0\n",
    "    time = [timestep]\n",
    "    r2 = [x*x+y*y+z*z]\n",
    "    xt = [x]\n",
    "    yt = [y]\n",
    "    zt = [z]\n",
    "#    if pot == 'X':\n",
    " #       fx, fy, fz = XFORCE(x,y,z)\n",
    "    for i in np.arange(NSTEP-1):\n",
    "        if pot == 'X':\n",
    "            fx, fy, fz = XFORCE(x,y,z)\n",
    "        vx=vx+0.5*dt*fx/vcon\n",
    "        vy=vy+0.5*dt*fy/vcon\n",
    "        vz=vz+0.5*dt*fz/vcon\n",
    "        x=x+dt*vx*vcon\n",
    "        y=y+dt*vy*vcon\n",
    "        z=z+dt*vz*vcon\n",
    "        r2=x*x+y*y+z*z\n",
    "        timestep = timestep + dt\n",
    "        print type(r2)\n",
    "        time.append(timestep)\n",
    "        #xt.append(x)\n",
    "        #yt.append(y)\n",
    "        #zt.append(z)\n",
    "        #r2.append(r2)\n",
    "        print x,y,z\n",
    "        \n",
    "integrate_orbit('X')"
   ]
  },
  {
   "cell_type": "code",
   "execution_count": null,
   "metadata": {
    "collapsed": true
   },
   "outputs": [],
   "source": []
  },
  {
   "cell_type": "code",
   "execution_count": null,
   "metadata": {
    "collapsed": true
   },
   "outputs": [],
   "source": []
  },
  {
   "cell_type": "code",
   "execution_count": null,
   "metadata": {
    "collapsed": true
   },
   "outputs": [],
   "source": [
    "\n",
    "c        -- find the final energy (the B energy is approximate at small radii)\n",
    "\n",
    "         else if(pot.eq.'X') then\n",
    "            CALL XENERGY(vcon,x,y,z,vx,vy,vz,ef(k))\n",
    "        \n",
    "         end if\n",
    "ccc         CALL ENERGY(a,b,c,d,md,ms,vh,g,vcon,x,y,z,vx,vy,vz,ef(k))\n",
    "ccc         write (6,*) 'k, e0, (e0-ef)/e0: ',k,e0(k),(e0(k)-ef(k))/e0(k)\n",
    "c        --- Find the final r x v and compare\n",
    "         amx=y*vz-z*vy\n",
    "         amy=z*vx-x*vz\n",
    "         amz=x*vy-y*vx\n",
    "         am=sqrt(amx*amx+amy*amy+amz*amz)\n",
    "         dbam=dbam + (dble(asin(amz/am))-bam(k))\n",
    "         lamf=atan2(-amy,-amx)\n",
    "         if(lamf.lt.0.0d0) lamf=lamf+2.0d0*pi\n",
    "c        --- check to make sure have not crossed 0/2*pi\n",
    "         if (abs(lamf-lam(k)).gt.pi) then\n",
    "            if (lam(k).lt.pi/2.0d0) then\n",
    "               lamf=lamf-2.0d0*pi\n",
    "            else\n",
    "               lamf=lamf+2.0d0*pi\n",
    "            end if\n",
    "         end if\n",
    "         dlam=dlam + (lamf-lam(k))\n",
    "c\n",
    "         CALL FINDIDORB(NC,NS,NSTEP,r2,nap,idap,npe,idpe)\n",
    "         if(NAP.lt.2) go to 666\n",
    "c        --- Find average R_p and store it.\n",
    "         rp(k)=0.0d0\n",
    "         do i=1,NPE\n",
    "            rp(k)=rp(k)+sqrt(r2(idpe(i)))\n",
    "         end do\n",
    "         rp(k)=rp(k)/real(NPE)\n",
    "         if (rp(k).lt.rpval) then\n",
    "            NRP=NRP+1\n",
    "         end if\n",
    "c        --- Find average R_a and store it.\n",
    "         ra(k)=0.0d0\n",
    "         do i=1,NAP\n",
    "            ra(k)=ra(k)+sqrt(r2(idap(i)))\n",
    "         end do\n",
    "         ra(k)=ra(k)/real(NAP)\n",
    "c        --- Find average period from R_a to R_a and store it.\n",
    "         porb(k)=0.0d0\n",
    "         do i=2,NAP\n",
    "            porb(k)=porb(k)+time(idap(i))-time(idap(i-1))\n",
    "         end do\n",
    "         porb(k)=porb(k)/real(NAP-1)\n",
    "\n",
    "c        --- Find average eccentricity and store it.\n",
    "         e(k)=0.0d0\n",
    "         do i=1,min(NPE,NAP)\n",
    "            e(k)=e(k)+(sqrt(r2(idap(i)))-sqrt(r2(idpe(i))))/\n",
    "     &                (sqrt(r2(idap(i)))+sqrt(r2(idpe(i))))\n",
    "         end do\n",
    "         e(k)=e(k)/real(min(NPE,NAP))\n",
    "c        --- Calculate the tidal radius at pericenter and store it\n",
    "         do i=1,min(NPE,NAP)\n",
    "            rap=sqrt(r2(idap(i)))\n",
    "            rpe=sqrt(r2(idpe(i)))\n",
    "            ec=(rap-rpe)/(rap+rpe)\n",
    "            fe=((1.00-ec)**2)/\n",
    "     &         ((((1.00+ec)**2)/(2.0*ec))*dlog((1.0+ec)/(1.0-ec))+1.00)\n",
    "            mmw=1.1e10*(rap+rpe)/2.0\n",
    "            rt1(k)=rt1(k)+((rap+rpe)/2.0)*(fe*mol1*ldsph/mmw)**0.333333\n",
    "            rt2(k)=rt2(k)+((rap+rpe)/2.0)*(fe*mol2*ldsph/mmw)**0.333333\n",
    "         end do\n",
    "         rt1(k)=rt1(k)/real(min(NPE,NAP))\n",
    "         rt2(k)=rt2(k)/real(min(NPE,NAP))\n",
    "         rt1(k)=atan(rt1(k)/dg)*ratoam\n",
    "         rt2(k)=atan(rt2(k)/dg)*ratoam\n",
    "         theta(k)=0.0d0\n",
    "         omega(k)=0.0d0\n",
    "         do i=1,min(NPE,NAP)\n",
    "            CALL PICK3POINTS(NC,NS,idpe,idap,i,xt,yt,zt,p)\n",
    "            CALL FINDPLANE(p,ap,bp,cp,dp)\n",
    "            CALL FINDINC(ap,bp,cp,dumb)\n",
    "            theta(k)=theta(k)+dumb\n",
    "            CALL FINDLONGITUDE(ap,bp,dumb)\n",
    "            omega(k)=omega(k)+dumb\n",
    "         end do\n",
    "         theta(k)=theta(k)/real(min(NPE,NAP))\n",
    "         omega(k)=omega(k)/real(min(NPE,NAP))\n",
    "         bpole(k)=theta(k)-(pi/2.0d0)\n",
    "         lpole(k)=omega(k)+0.50d0*pi\n",
    "         if (lpole(k).gt.2.0d0*pi) then\n",
    "            lpole(k)=lpole(k)-2.0d0*pi\n",
    "         end if\n",
    "c        -- do some checking to avoid splitting omega values across 0/2pi\n",
    "         if (abs(omega(k)-omega(1)).gt.pi) then\n",
    "            if (omega(1).lt.pi) then\n",
    "               omega(k)=omega(k)-2.0d0*pi\n",
    "            else\n",
    "               omega(i)=omega(k)+2.0d0*pi\n",
    "            end if\n",
    "         end if\n",
    "c        -- do some checking to avoid splitting lpole values across 0/2pi\n",
    "         if (abs(lpole(k)-lpole(1)).gt.pi) then\n",
    "            if (lpole(1).lt.pi) then\n",
    "               lpole(k)=lpole(k)-2.0d0*pi\n",
    "            else\n",
    "               lpole(k)=lpole(k)+2.0d0*pi\n",
    "            end if\n",
    "         end if\n",
    "c        -- and the same for lam\n",
    "         if (abs(lam(k)-lam(1)).gt.pi) then\n",
    "            if (lam(1).lt.pi) then\n",
    "               lam(k)=lam(k)-2.0d0*pi\n",
    "            else\n",
    "               lam(k)=lam(k)+2.0d0*pi\n",
    "            end if\n",
    "         end if\n",
    "         k=k+1\n",
    "         NCOUNT=NCOUNT+1\n",
    " 666     continue\n",
    "      end do\n",
    "      close(unit=20)\n",
    "\n",
    "      close(unit=1)"
   ]
  },
  {
   "cell_type": "code",
   "execution_count": null,
   "metadata": {
    "collapsed": true
   },
   "outputs": [],
   "source": []
  },
  {
   "cell_type": "code",
   "execution_count": null,
   "metadata": {
    "collapsed": true
   },
   "outputs": [],
   "source": []
  },
  {
   "cell_type": "code",
   "execution_count": null,
   "metadata": {
    "collapsed": true
   },
   "outputs": [],
   "source": []
  },
  {
   "cell_type": "markdown",
   "metadata": {},
   "source": [
    "## Get UPGVPGWPG"
   ]
  },
  {
   "cell_type": "code",
   "execution_count": 6,
   "metadata": {},
   "outputs": [
    {
     "name": "stdout",
     "output_type": "stream",
     "text": [
      "-36.6806351847 117.081645903 40.498068962\n"
     ]
    }
   ],
   "source": [
    "def GETUPGVPGWPG(dlsr,vlsr,d,l,b,ug,vg,wg):\n",
    "#----------------------------------------------------------------------------\n",
    "#                 --- The transformation equations: ---\n",
    "#\n",
    "#       upg =  ug*cos(alpha) + (vg+vlsr)*sin(alpha) ;Pi direction\n",
    "#       vpg = -ug*sin(alpha) + (vg+vlsr)*cos(alpha) ;Theta direction\n",
    "#       wpg =  wg                                   ;Z direction\n",
    "#\n",
    "#     ---alpha is an angle between dlsr (a line between the Galactic center\n",
    "#        and the LSR (dlsr=8500 pc) and x (a line between the Galactic center\n",
    "#        and a point on the Galactic disk corresponding to a vertical \n",
    "#        projection of a galaxy onto the disk. \n",
    "#        \n",
    "#     --- The circular velocity of the L.S.R. is removed.\n",
    "#----------------------------------------------------------------------------\n",
    "\n",
    "\n",
    "    x=np.sqrt(dlsr*dlsr+d*d*cos_deg(b)*cos_deg(b)-2.0*dlsr*d*cos_deg(b)*cos_deg(l))\n",
    "    sinalpha=d*cos_deg(b)*sin_deg(l)/x\n",
    "    cosalpha=(x*x+dlsr*dlsr-d*d*cos_deg(b)*cos_deg(b))/(2.0*x*dlsr)\n",
    "\n",
    "    upg =  ug*cosalpha + (vg+vlsr)*sinalpha\n",
    "    vpg = -ug*sinalpha + (vg+vlsr)*cosalpha\n",
    "    wpg =  wg\n",
    "    \n",
    "    #upg(2) =  sqrt((ug(2)*cosalpha)**2 + (vg(2)*sinalpha)**2)\n",
    "    #vpg(2) =  sqrt((ug(2)*sinalpha)**2 + (vg(2)*cosalpha)**2)\n",
    "    #wpg(2) =  wg(2)\n",
    "    \n",
    "    return upg, vpg, wpg\n",
    "\n",
    "upg, vpg, wpg = GETUPGVPGWPG(dlsr,vlsr,test_d,l,b,ug,vg,wg)\n",
    "print upg, vpg, wpg #km/s"
   ]
  },
  {
   "cell_type": "markdown",
   "metadata": {},
   "source": [
    "## Get Galactocentric tangential velocity components"
   ]
  },
  {
   "cell_type": "code",
   "execution_count": 7,
   "metadata": {},
   "outputs": [
    {
     "data": {
      "text/plain": [
       "(<Quantity 21.896955667014314>,\n",
       " <Quantity 117.0816459030816>,\n",
       " <Quantity 50.0608222038629>,\n",
       " <Quantity 127.33498233832428>)"
      ]
     },
     "execution_count": 7,
     "metadata": {},
     "output_type": "execute_result"
    }
   ],
   "source": [
    "def GETUPPGVPPGWPPG(dlsr,d,l,b,upg,vpg,wpg):\n",
    "#                 --- The transformation equations: ---\n",
    "#       uppg =  upg*cos(beta) + wpg*sin(beta)\n",
    "#       vppg =  vpg\n",
    "#       wppg = -upg*sin(beta) + wpg*cos(beta)\n",
    "#\n",
    "#     --- beta is an angle between the line-of-sight to a galaxy and\n",
    "#         line x (see subroutine GETUPGVPGWPG for definition).\n",
    "#     --- From the law of cosines...\n",
    "\n",
    "    x=np.sqrt(dlsr*dlsr+d*d*cos_deg(b)*cos_deg(b)-2.0*dlsr*d*cos_deg(b)*cos_deg(l))\n",
    "    cosbeta=x/np.sqrt(x*x+d*d*sin_deg(b)*sin_deg(b))\n",
    "    sinbeta=d*sin_deg(b)/np.sqrt(x*x+d*d*sin_deg(b)*sin_deg(b))\n",
    "    uppg =  upg*cosbeta + wpg*sinbeta\n",
    "    vppg = vpg\n",
    "    wppg = -upg*sinbeta + wpg*cosbeta\n",
    "\n",
    "    vt = np.sqrt(vppg**2+wppg**2)\n",
    "    \n",
    "    return uppg, vppg, wppg, vt\n",
    "\n",
    "GETUPPGVPPGWPPG(dlsr, 233000, l, b, upg, vpg, wpg)"
   ]
  },
  {
   "cell_type": "code",
   "execution_count": null,
   "metadata": {
    "collapsed": true
   },
   "outputs": [],
   "source": []
  },
  {
   "cell_type": "code",
   "execution_count": null,
   "metadata": {
    "collapsed": true
   },
   "outputs": [],
   "source": []
  },
  {
   "cell_type": "code",
   "execution_count": null,
   "metadata": {
    "collapsed": true
   },
   "outputs": [],
   "source": []
  },
  {
   "cell_type": "markdown",
   "metadata": {},
   "source": [
    "### Using astropy to get XYZ position"
   ]
  },
  {
   "cell_type": "markdown",
   "metadata": {},
   "source": [
    "___"
   ]
  },
  {
   "cell_type": "markdown",
   "metadata": {},
   "source": [
    "## Development"
   ]
  },
  {
   "cell_type": "code",
   "execution_count": null,
   "metadata": {},
   "outputs": [],
   "source": [
    "def xyzvelocity(ra, dec, dist, mu_a, mu_d, rv):\n",
    "    pm = [mu_a, mu_d] * u.uas/(100*u.yr) \n",
    "    rv = rv * u.km/u.s\n",
    "    frame = Galactocentric(z_sun=0*u.pc, galcen_distance=8.2*u.kpc)\n",
    "    c = SkyCoord(ra=ra*u.deg, dec=dec*u.deg, distance=dist*u.kpc)\n",
    "    d = gc.vhel_to_gal(c.icrs, pm=pm, rv=rv, galactocentric_frame=frame, vlsr=[-usun, -vsun, wsun]*u.km/u.s)\n",
    "    return d\n",
    "\n",
    "xyzvels = xyzvelocity(test_ra, test_dec, test_d, mu_a, mu_d, rv)\n",
    "\n",
    "\n",
    "print xyzvels, type(xyzvels)\n"
   ]
  },
  {
   "cell_type": "code",
   "execution_count": null,
   "metadata": {
    "collapsed": true
   },
   "outputs": [],
   "source": []
  },
  {
   "cell_type": "code",
   "execution_count": null,
   "metadata": {
    "collapsed": true
   },
   "outputs": [],
   "source": []
  },
  {
   "cell_type": "code",
   "execution_count": null,
   "metadata": {
    "collapsed": true
   },
   "outputs": [],
   "source": []
  },
  {
   "cell_type": "markdown",
   "metadata": {},
   "source": [
    "## Mathematical Versions"
   ]
  },
  {
   "cell_type": "code",
   "execution_count": null,
   "metadata": {},
   "outputs": [],
   "source": [
    "def radec_to_galactic_pos2(ra, dec, alpha_NGP=alpha_NGP, delta_NGP=delta_NGP, gc_GAN=gc_GAN):\n",
    "    #Finds galactic coords (l, b) of an object given RA, DEC in degrees.       \n",
    "    b = asin_deg(sin_deg(dec)*cos_deg(90.0-delta_NGP)-cos_deg(dec)*sin_deg(ra-(alpha_NGP+90.0))*sin_deg(90.0-delta_NGP))\n",
    "    y = cos_deg(dec)*sin_deg(ra-(alpha_NGP+90.0))*cos_deg(90.0-delta_NGP)+sin_deg(dec)*sin_deg(90.0-delta_NGP)\n",
    "    x = cos_deg(dec)*cos_deg(ra-(alpha_NGP+90.0))\n",
    "    l = atan2_deg(y,x)+gc_GAN\n",
    "    if l < 0:\n",
    "        l += 360\n",
    "    return {'l':l, 'b':b}\n",
    "\n",
    "radec_to_galactic_pos2(test_ra, test_dec)"
   ]
  },
  {
   "cell_type": "code",
   "execution_count": null,
   "metadata": {},
   "outputs": [],
   "source": []
  },
  {
   "cell_type": "code",
   "execution_count": null,
   "metadata": {
    "collapsed": true
   },
   "outputs": [],
   "source": []
  },
  {
   "cell_type": "markdown",
   "metadata": {},
   "source": [
    "## Deprecated"
   ]
  },
  {
   "cell_type": "markdown",
   "metadata": {},
   "source": [
    "## astropy xyz velocity"
   ]
  },
  {
   "cell_type": "code",
   "execution_count": 249,
   "metadata": {},
   "outputs": [
    {
     "name": "stdout",
     "output_type": "stream",
     "text": [
      "[ -33.42046638  211.14060882   79.89657993] km / s <class 'astropy.units.quantity.Quantity'>\n"
     ]
    },
    {
     "name": "stderr",
     "output_type": "stream",
     "text": [
      "WARNING: AstropyDeprecationWarning: \n",
      "Numpy matrix instances are no longer used to represent rotation matrices, since\n",
      "they do not allow one to represent stacks of matrices. Instead, plain arrays\n",
      "are used. Instead of %(func)s, use %(alternative)s.\n",
      "For matrix multiplication and tranposes, it is suggested to use\n",
      ":func:`~astropy.coordinates.matrix_utilities.matrix_product` and\n",
      ":func:`~astropy.coordinates.matrix_utilities.matrix_transpose`, respectively.\n",
      " [astropy.utils.decorators]\n",
      "WARNING: AstropyDeprecationWarning: \n",
      "Numpy matrix instances are no longer used to represent rotation matrices, since\n",
      "they do not allow one to represent stacks of matrices. Instead, plain arrays\n",
      "are used. Instead of %(func)s, use %(alternative)s.\n",
      "For matrix multiplication and tranposes, it is suggested to use\n",
      ":func:`~astropy.coordinates.matrix_utilities.matrix_product` and\n",
      ":func:`~astropy.coordinates.matrix_utilities.matrix_transpose`, respectively.\n",
      " [astropy.utils.decorators]\n",
      "WARNING: AstropyDeprecationWarning: \n",
      "Numpy matrix instances are no longer used to represent rotation matrices, since\n",
      "they do not allow one to represent stacks of matrices. Instead, plain arrays\n",
      "are used. Instead of %(func)s, use %(alternative)s.\n",
      "For matrix multiplication and tranposes, it is suggested to use\n",
      ":func:`~astropy.coordinates.matrix_utilities.matrix_product` and\n",
      ":func:`~astropy.coordinates.matrix_utilities.matrix_transpose`, respectively.\n",
      " [astropy.utils.decorators]\n",
      "WARNING: AstropyDeprecationWarning: \n",
      "Numpy matrix instances are no longer used to represent rotation matrices, since\n",
      "they do not allow one to represent stacks of matrices. Instead, plain arrays\n",
      "are used. Instead of %(func)s, use %(alternative)s.\n",
      "For matrix multiplication and tranposes, it is suggested to use\n",
      ":func:`~astropy.coordinates.matrix_utilities.matrix_product` and\n",
      ":func:`~astropy.coordinates.matrix_utilities.matrix_transpose`, respectively.\n",
      " [astropy.utils.decorators]\n"
     ]
    }
   ],
   "source": [
    "def xyzvelocity(ra, dec, dist, mu_a, mu_d, rv):\n",
    "    pm = [mu_a, mu_d] * u.uas/(100*u.yr) \n",
    "    rv = rv * u.km/u.s\n",
    "    frame = Galactocentric(z_sun=0*u.pc, galcen_distance=8.2*u.kpc)\n",
    "    c = SkyCoord(ra=ra*u.deg, dec=dec*u.deg, distance=dist*u.kpc)\n",
    "    d = gc.vhel_to_gal(c.icrs, pm=pm, rv=rv, galactocentric_frame=frame, vlsr=[usun, vsun, wsun]*u.km/u.s)\n",
    "    return d\n",
    "\n",
    "xyzvels = xyzvelocity(test_ra, test_dec, test_d, mu_a, mu_d, rv)\n",
    "\n",
    "print xyzvels, type(xyzvels)"
   ]
  }
 ],
 "metadata": {
  "kernelspec": {
   "display_name": "Python 2",
   "language": "python",
   "name": "python2"
  }
 },
 "nbformat": 4,
 "nbformat_minor": 2
}
