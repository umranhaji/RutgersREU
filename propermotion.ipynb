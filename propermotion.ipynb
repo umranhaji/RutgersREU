{
 "cells": [
  {
   "cell_type": "code",
   "execution_count": 166,
   "metadata": {},
   "outputs": [
    {
     "data": {
      "text/plain": [
       "{'b': 67.23124435847123, 'l': 220.16913736951736}"
      ]
     },
     "execution_count": 166,
     "metadata": {},
     "output_type": "execute_result"
    }
   ],
   "source": [
    "#FINALIZED PYTHON VERSION\n",
    "\n",
    "import numpy as np\n",
    "from astropy import units as u\n",
    "from astropy.coordinates import SkyCoord, Galactocentric, ICRS, Galactic\n",
    "import gala.coordinates as gc\n",
    "    \n",
    "#Constants\n",
    "asec_to_rad = 206264.8 #Converts arcseconds to radians\n",
    "sec_to_year = 3.155693e7 #Converts from years to seconds\n",
    "pc_to_km = 3.08568e13 #Converts from pc to km\n",
    "year_to_day = 365.2422 #Converts years to days\n",
    "ra_lsr = 318.00425 #RA of the apex of the LSR motion (ie., l=90, b=0)     \n",
    "dec_lsr = 48.329611 #DEC of the apex of the LSR motion (J2000.0)\n",
    "ra_sa = 251.51 #RA of the apex of the solar peculiar motion (wrt LSR) J2000.0 \n",
    "dec_sa = 10.129 #DEC of the apex of the solar peculiar motion (wrt LSR)\n",
    "alpha_NGP = 192.85948 #RA in degrees of the Galactic Pole (J2000.0)\n",
    "delta_NGP = 27.12825 #DEC in degrees of the Galactic Pole (J2000.0)\n",
    "gc_GAN = 32.93192 #Angle along galactic equator from (l,b)=(0,0) to galactic ascending node\n",
    "l_NCP = 122.9319#Galactic longitude of the NCP (J2000.0)\n",
    "b_NCP =  27.1283#Galactic latitude of the NCP  (J2000.0)\n",
    "usun = -10.0 #U-component of Sun's velocity w.r.t. LSR; Dehnen & Binney                  \n",
    "vsun = 11.0 #V-component of Sun's velocity w.r.t. LSR; 1998, MNRAS, \n",
    "wsun = 7.0 #W-component of Sun's velocity w.r.t. LSR; 298, 387\n",
    "v_lsr = 237.0 #Circular velocity of LSR w.r.t. Galaxy center in km/s\n",
    "d_lsr = 8200.0 #Distance of LSR from the Galaxy center in pc\n",
    "\n",
    "#Functions\n",
    "\n",
    "def sin_deg(x):\n",
    "    #Sine function for degree-valued args\n",
    "    deg_to_rad = 1.74532925199e-02\n",
    "    return np.sin(np.deg2rad(x))\n",
    "\n",
    "def cos_deg(x):\n",
    "    #Cosine function for degree-valued args\n",
    "    return np.cos(np.deg2rad(x))\n",
    "\n",
    "def asin_deg(x):\n",
    "    #Gives asin in degrees\n",
    "    return np.rad2deg(np.arcsin(x))\n",
    "\n",
    "def acos_deg(x):\n",
    "    #Gives acos in degrees\n",
    "    return np.rad2deg(np.arccos(x))\n",
    "\n",
    "def atan2_deg(y,x):\n",
    "    #Gives atan2 in degrees\n",
    "    return np.rad2deg(np.arctan2(y,x))\n",
    "\n",
    "def radec_to_galactic_pos(ra, dec):    \n",
    "    #Returns dictionary of galactic coords (l, b) in degrees, given an object's RA & DEC in degrees\n",
    "    coords = SkyCoord(ra=ra*u.degree, dec=dec*u.degree, frame='icrs')\n",
    "    galactic = coords.galactic\n",
    "    return {'l':galactic.l.deg, 'b':galactic.b.deg}\n",
    "\n",
    "radec_to_galactic_pos(test_ra, test_dec)"
   ]
  },
  {
   "cell_type": "code",
   "execution_count": 163,
   "metadata": {},
   "outputs": [
    {
     "data": {
      "text/latex": [
       "$[0.061708153,~-0.092257718] \\; \\mathrm{\\frac{\\mu as}{yr}}$"
      ],
      "text/plain": [
       "<Quantity [ 0.06170815,-0.09225772] uas / yr>"
      ]
     },
     "execution_count": 163,
     "metadata": {},
     "output_type": "execute_result"
    }
   ],
   "source": [
    "def pm_radec_to_gal(ra, dec, dist, mu_a, mu_d, rv):\n",
    "    c = SkyCoord(ra=ra*u.deg, dec=dec*u.deg, distance=dist*u.kpc)\n",
    "    pm = [mu_a, mu_d] * u.uas/(100*u.yr) \n",
    "    return gc.pm_icrs_to_gal(c, pm).to(u.uas/(u.yr))\n",
    "\n",
    "pm_radec_to_gal(test_ra, test_dec, test_d, mu_a, mu_d, rv)"
   ]
  },
  {
   "cell_type": "markdown",
   "metadata": {},
   "source": [
    "## Development"
   ]
  },
  {
   "cell_type": "code",
   "execution_count": 121,
   "metadata": {},
   "outputs": [
    {
     "name": "stdout",
     "output_type": "stream",
     "text": [
      "220.16913737 67.2312443585\n"
     ]
    }
   ],
   "source": [
    "test_ra = 168.3700 #degrees\n",
    "test_dec = 22.15167 #degrees\n",
    "test_d = 233000 #pc\n",
    "mu_a = -6.930000 #mas/cent\n",
    "mu_d = -8.670000 #mas/cent\n",
    "rv = 79.1 #km/s\n",
    "\n",
    "galcoords = radec_to_galactic_pos(test_ra, test_dec)\n",
    "l = galcoords['l']\n",
    "b = galcoords['b']\n",
    "print l, b"
   ]
  },
  {
   "cell_type": "code",
   "execution_count": 172,
   "metadata": {},
   "outputs": [
    {
     "data": {
      "text/plain": [
       "<Galactocentric Coordinate (galcen_distance=8.2 kpc, galcen_ra=266d24m18.36s, galcen_dec=-28d56m10.23s, z_sun=27.0 pc, roll=0.0 deg): (x, y, z) in pc\n",
       "    (-76398.40831938, -58166.63682664,  215095.85734564)>"
      ]
     },
     "execution_count": 172,
     "metadata": {},
     "output_type": "execute_result"
    }
   ],
   "source": [
    "def getxyz(ra, dec, d):\n",
    "    global b\n",
    "    global l\n",
    "    c = ICRS(ra=ra*u.degree, dec=dec*u.degree, distance=d*u.pc)\n",
    "    return c.transform_to(Galactocentric(galcen_distance=8.2*u.kpc, z_sun=27*u.pc))\n",
    "getxyz(test_ra, test_dec, test_d)"
   ]
  },
  {
   "cell_type": "code",
   "execution_count": 167,
   "metadata": {},
   "outputs": [
    {
     "data": {
      "text/latex": [
       "$[-61.11617,~98.561575,~40.667164] \\; \\mathrm{\\frac{km}{s}}$"
      ],
      "text/plain": [
       "<Quantity [-61.11616968, 98.56157507, 40.66716428] km / s>"
      ]
     },
     "execution_count": 167,
     "metadata": {},
     "output_type": "execute_result"
    }
   ],
   "source": [
    "def velocity(ra, dec, dist, mu_a, mu_d, rv):\n",
    "    global test_dec #????\n",
    "    pm = [mu_a, mu_d] * u.uas/(100*u.yr) \n",
    "    rv = rv * u.km/u.s\n",
    "    frame = Galactocentric(z_sun=27.*u.pc, galcen_distance=8.2*u.kpc)\n",
    "    c = SkyCoord(ra=ra*u.deg, dec=dec*u.deg, distance=dist*u.kpc)\n",
    "    return gc.vhel_to_gal(c.icrs, pm=pm, rv=rv, galactocentric_frame=frame, vlsr=[usun, vsun, wsun]*u.km/u.s)\n",
    "    \n",
    "velocity(test_ra, test_dec, test_d, mu_a, mu_d, rv)"
   ]
  },
  {
   "cell_type": "code",
   "execution_count": 100,
   "metadata": {},
   "outputs": [
    {
     "name": "stdout",
     "output_type": "stream",
     "text": [
      "77.1058750111 58.1663853521 214.843319663\n"
     ]
    }
   ],
   "source": [
    "def galactic_rect_pos(l, b, d, d_lsr):\n",
    "    x0 = d_lsr-d*cos_deg(b)*cos_deg(l)\n",
    "    y0 = -d*cos_deg(b)*sin_deg(l)\n",
    "    z0 = d*sin_deg(b)\n",
    "    x = x0/1000\n",
    "    y = y0/1000\n",
    "    z = z0/1000\n",
    "    print x, y, z\n",
    "galactic_rect_pos(l, b, test_d, d_lsr)"
   ]
  },
  {
   "cell_type": "code",
   "execution_count": null,
   "metadata": {
    "collapsed": true
   },
   "outputs": [],
   "source": []
  },
  {
   "cell_type": "code",
   "execution_count": null,
   "metadata": {
    "collapsed": true
   },
   "outputs": [],
   "source": []
  },
  {
   "cell_type": "code",
   "execution_count": null,
   "metadata": {
    "collapsed": true
   },
   "outputs": [],
   "source": []
  },
  {
   "cell_type": "code",
   "execution_count": null,
   "metadata": {
    "collapsed": true
   },
   "outputs": [],
   "source": []
  },
  {
   "cell_type": "markdown",
   "metadata": {},
   "source": [
    "## Mathematical Versions"
   ]
  },
  {
   "cell_type": "code",
   "execution_count": 165,
   "metadata": {},
   "outputs": [
    {
     "data": {
      "text/plain": [
       "{'b': 67.231242804005689, 'l': 220.16912488386765}"
      ]
     },
     "execution_count": 165,
     "metadata": {},
     "output_type": "execute_result"
    }
   ],
   "source": [
    "def radec_to_galactic_pos2(ra, dec, alpha_NGP=alpha_NGP, delta_NGP=delta_NGP, gc_GAN=gc_GAN):\n",
    "    #Finds galactic coords (l, b) of an object given RA, DEC in degrees.       \n",
    "    b = asin_deg(sin_deg(dec)*cos_deg(90.0-delta_NGP)-cos_deg(dec)*sin_deg(ra-(alpha_NGP+90.0))*sin_deg(90.0-delta_NGP))\n",
    "    y = cos_deg(dec)*sin_deg(ra-(alpha_NGP+90.0))*cos_deg(90.0-delta_NGP)+sin_deg(dec)*sin_deg(90.0-delta_NGP)\n",
    "    x = cos_deg(dec)*cos_deg(ra-(alpha_NGP+90.0))\n",
    "    l = atan2_deg(y,x)+gc_GAN\n",
    "    if l < 0:\n",
    "        l += 360\n",
    "    return {'l':l, 'b':b}\n",
    "\n",
    "radec_to_galactic_pos2(test_ra, test_dec)"
   ]
  },
  {
   "cell_type": "code",
   "execution_count": null,
   "metadata": {
    "collapsed": true
   },
   "outputs": [],
   "source": []
  }
 ],
 "metadata": {
  "kernelspec": {
   "display_name": "Python 2",
   "language": "python",
   "name": "python2"
  },
  "language_info": {
   "codemirror_mode": {
    "name": "ipython",
    "version": 2
   },
   "file_extension": ".py",
   "mimetype": "text/x-python",
   "name": "python",
   "nbconvert_exporter": "python",
   "pygments_lexer": "ipython2",
   "version": "2.7.13"
  }
 },
 "nbformat": 4,
 "nbformat_minor": 2
}
